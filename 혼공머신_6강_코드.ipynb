{
  "nbformat": 4,
  "nbformat_minor": 0,
  "metadata": {
    "colab": {
      "provenance": [],
      "authorship_tag": "ABX9TyOQLNormca1l8bJ0fbqQxKf",
      "include_colab_link": true
    },
    "kernelspec": {
      "name": "python3",
      "display_name": "Python 3"
    },
    "language_info": {
      "name": "python"
    }
  },
  "cells": [
    {
      "cell_type": "markdown",
      "metadata": {
        "id": "view-in-github",
        "colab_type": "text"
      },
      "source": [
        "<a href=\"https://colab.research.google.com/github/kdh020520/ML-DL/blob/main/%ED%98%BC%EA%B3%B5%EB%A8%B8%EC%8B%A0_6%EA%B0%95_%EC%BD%94%EB%93%9C.ipynb\" target=\"_parent\"><img src=\"https://colab.research.google.com/assets/colab-badge.svg\" alt=\"Open In Colab\"/></a>"
      ]
    },
    {
      "cell_type": "code",
      "execution_count": null,
      "metadata": {
        "id": "HhWInkOKqg6s"
      },
      "outputs": [],
      "source": [
        "import numpy as np\n",
        "\n",
        "perch_length = np.array(\n",
        "    [8.4, 13.7, 15.0, 16.2, 17.4, 18.0, 18.7, 19.0, 19.6, 20.0, \n",
        "     21.0, 21.0, 21.0, 21.3, 22.0, 22.0, 22.0, 22.0, 22.0, 22.5, \n",
        "     22.5, 22.7, 23.0, 23.5, 24.0, 24.0, 24.6, 25.0, 25.6, 26.5, \n",
        "     27.3, 27.5, 27.5, 27.5, 28.0, 28.7, 30.0, 32.8, 34.5, 35.0, \n",
        "     36.5, 36.0, 37.0, 37.0, 39.0, 39.0, 39.0, 40.0, 40.0, 40.0, \n",
        "     40.0, 42.0, 43.0, 43.0, 43.5, 44.0]\n",
        "     )\n",
        "perch_weight = np.array(\n",
        "    [5.9, 32.0, 40.0, 51.5, 70.0, 100.0, 78.0, 80.0, 85.0, 85.0, \n",
        "     110.0, 115.0, 125.0, 130.0, 120.0, 120.0, 130.0, 135.0, 110.0, \n",
        "     130.0, 150.0, 145.0, 150.0, 170.0, 225.0, 145.0, 188.0, 180.0, \n",
        "     197.0, 218.0, 300.0, 260.0, 265.0, 250.0, 250.0, 300.0, 320.0, \n",
        "     514.0, 556.0, 840.0, 685.0, 700.0, 700.0, 690.0, 900.0, 650.0, \n",
        "     820.0, 850.0, 900.0, 1015.0, 820.0, 1100.0, 1000.0, 1100.0, \n",
        "     1000.0, 1000.0]\n",
        "     )"
      ]
    },
    {
      "cell_type": "code",
      "source": [
        "from sklearn.model_selection import train_test_split"
      ],
      "metadata": {
        "id": "ObzAbgoUfLXa"
      },
      "execution_count": null,
      "outputs": []
    },
    {
      "cell_type": "code",
      "source": [
        "# 훈련 세트와 테스트 세트로 나눕니다. \n",
        "train_input, test_input, train_target, test_target = train_test_split(\n",
        "    perch_length, perch_weight, random_state=42)"
      ],
      "metadata": {
        "id": "qZgk-tHkfenW"
      },
      "execution_count": null,
      "outputs": []
    },
    {
      "cell_type": "code",
      "source": [
        "# 훈련 세트와 테스트 세트를 2차원 배열로 바꿉니다.\n",
        "train_input = train_test_reshape(-1, 1)\n",
        "test_input = test_input.reshape(-1, 1)"
      ],
      "metadata": {
        "id": "oOeQl6qRfVdg"
      },
      "execution_count": null,
      "outputs": []
    },
    {
      "cell_type": "code",
      "source": [
        "from sklearn.neighbors import KNeighborsRegressor"
      ],
      "metadata": {
        "id": "U7rFcwDagBWp"
      },
      "execution_count": null,
      "outputs": []
    },
    {
      "cell_type": "code",
      "source": [
        "knr = KNeighborsRegressor(n_neighbors=3)"
      ],
      "metadata": {
        "id": "70y2kDzVgLYK"
      },
      "execution_count": null,
      "outputs": []
    },
    {
      "cell_type": "code",
      "source": [
        "# k - 최근접 이웃 회귀 모델을 훈련합니다.\n",
        "knr.fit(train_input, train_target)"
      ],
      "metadata": {
        "id": "Hoxw3F5agSOm"
      },
      "execution_count": null,
      "outputs": []
    },
    {
      "cell_type": "code",
      "source": [
        "print(knr.predict([[50]]))"
      ],
      "metadata": {
        "id": "8F3j3b0JgWn5"
      },
      "execution_count": null,
      "outputs": []
    },
    {
      "cell_type": "code",
      "source": [
        "import matplotlib.pyplot as plt"
      ],
      "metadata": {
        "id": "2-VUhiZ_gh1n"
      },
      "execution_count": null,
      "outputs": []
    },
    {
      "cell_type": "code",
      "source": [
        "# 50cm 농어의 이웃을 구합니다."
      ],
      "metadata": {
        "id": "2II5RMxVgmj7"
      },
      "execution_count": null,
      "outputs": []
    },
    {
      "cell_type": "code",
      "source": [
        "distances, indexes = knr.kneighbors(([[50]]))"
      ],
      "metadata": {
        "id": "dSQVrb6Ygz4O"
      },
      "execution_count": null,
      "outputs": []
    },
    {
      "cell_type": "code",
      "source": [
        "# 훈련 세트와 산점도를 그립니다.\n",
        "plt.scatter(train_input, train_target)"
      ],
      "metadata": {
        "id": "0WfimC5Gg7Zd"
      },
      "execution_count": null,
      "outputs": []
    },
    {
      "cell_type": "code",
      "source": [
        "# 훈련 세트 중에서 이웃 샘플만 다시 그립니다.\n",
        "plt.scatter(train_input[indexes], train_target[indexes], marker='D')"
      ],
      "metadata": {
        "id": "W7sJGGnmhHMF"
      },
      "execution_count": null,
      "outputs": []
    },
    {
      "cell_type": "code",
      "source": [
        "# 50cm 농어 데이터\n",
        "plt.scatter(50, 1033, marker='^')\n",
        "plt.xlabel('length')\n",
        "plt.ylabel('weight')\n",
        "plt.show()"
      ],
      "metadata": {
        "id": "XpxyFq9WhU8-"
      },
      "execution_count": null,
      "outputs": []
    },
    {
      "cell_type": "code",
      "source": [
        "print(np.mean(train_target[indexes]))"
      ],
      "metadata": {
        "id": "qS1Kpidrhnwy"
      },
      "execution_count": null,
      "outputs": []
    },
    {
      "cell_type": "code",
      "source": [
        "print(knr.predict([[100]]))"
      ],
      "metadata": {
        "id": "73hEdNMqh0em"
      },
      "execution_count": null,
      "outputs": []
    },
    {
      "cell_type": "code",
      "source": [
        "# 100cm 농어의 이웃을 구합니다\n",
        "distances2, indexes = knr.kneighbors(([100]))"
      ],
      "metadata": {
        "id": "uvrVR8fFh_M_"
      },
      "execution_count": null,
      "outputs": []
    },
    {
      "cell_type": "code",
      "source": [
        "# 훈련 세트의 산점도를 그립니다.\n",
        "plt.scatter(train_input, train_target)"
      ],
      "metadata": {
        "id": "W2sTEPY3iLP4"
      },
      "execution_count": null,
      "outputs": []
    },
    {
      "cell_type": "code",
      "source": [
        "# 훈련 세트 중에서 이웃 샘플만 다시 그립니다.\n",
        "plt.scatter(train_input, train_target)\n",
        "\\"
      ],
      "metadata": {
        "id": "KWpDKFEwiXLV"
      },
      "execution_count": null,
      "outputs": []
    }
  ]
}